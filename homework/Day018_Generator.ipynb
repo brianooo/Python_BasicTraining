{
 "cells": [
  {
   "cell_type": "markdown",
   "metadata": {
    "colab_type": "text",
    "id": "P6xk2_jLsvFF"
   },
   "source": [
    "# [作業目標]\n",
    "\n",
    "\n",
    "1. 將下列程式用 generator 改寫，並且比較下列兩段程式碼的差異：\n",
    "\n",
    "```\n",
    "def foo():\n",
    "    i = 0\n",
    "    L = []\n",
    "    while i < 5:\n",
    "        L.append(i) \n",
    "        i += 1\n",
    "    return L\n",
    "\n",
    "f = foo()\n",
    "for i in f:\n",
    "    print(i) # 0, 1, 2, 3, 4\n",
    "```\n",
    "\n",
    "2. 請將下列程式碼改成 generator：\n",
    "\n",
    "```\n",
    "L = []\n",
    "for i in range(100):\n",
    "    if i % 2 == 0:\n",
    "        L.append(i)\n",
    "```\n"
   ]
  },
  {
   "cell_type": "markdown",
   "metadata": {
    "colab_type": "text",
    "id": "uXGll28asvFS"
   },
   "source": [
    "# 作業 "
   ]
  },
  {
   "cell_type": "markdown",
   "metadata": {},
   "source": [
    "### 1. 將下列程式用 generator 改寫，並且比較下列兩段程式碼的差異：\n",
    "\n",
    "```\n",
    "def foo():\n",
    "    i = 0\n",
    "    L = []\n",
    "    while i < 5:\n",
    "        L.append(i) \n",
    "        i += 1\n",
    "    return L\n",
    "\n",
    "f = foo()\n",
    "for i in f:\n",
    "    print(i) # 0, 1, 2, 3, 4\n",
    "```"
   ]
  },
  {
   "cell_type": "code",
   "execution_count": 1,
   "metadata": {},
   "outputs": [
    {
     "name": "stdout",
     "output_type": "stream",
     "text": [
      "0\n",
      "1\n",
      "2\n",
      "3\n",
      "4\n"
     ]
    }
   ],
   "source": [
    "def foo():\n",
    "    i = 0\n",
    "    while i < 5:\n",
    "        yield i\n",
    "        i += 1\n",
    "\n",
    "f = foo()\n",
    "for i in f:\n",
    "    print(i)"
   ]
  },
  {
   "cell_type": "markdown",
   "metadata": {},
   "source": [
    "### 2. 請將下列程式碼改成 generator：\n",
    "\n",
    "```\n",
    "L = []\n",
    "for i in range(100):\n",
    "    if i % 2 == 0:\n",
    "        L.append(i)\n",
    "```"
   ]
  },
  {
   "cell_type": "code",
   "execution_count": 2,
   "metadata": {},
   "outputs": [
    {
     "name": "stdout",
     "output_type": "stream",
     "text": [
      "0 2 4 6 8 10 12 14 16 18 20 22 24 26 28 30 32 34 36 38 40 42 44 46 48 50 52 54 56 58 60 62 64 66 68 70 72 74 76 78 80 82 84 86 88 90 92 94 96 98 "
     ]
    }
   ],
   "source": [
    "L = (i for i in range(100) if i % 2 == 0)\n",
    "\n",
    "for i in L:\n",
    "    print(i, end=' ')"
   ]
  }
 ],
 "metadata": {
  "colab": {
   "name": "Day_023_HW.ipynb",
   "provenance": []
  },
  "kernelspec": {
   "display_name": "Python 3",
   "language": "python",
   "name": "python3"
  },
  "language_info": {
   "codemirror_mode": {
    "name": "ipython",
    "version": 3
   },
   "file_extension": ".py",
   "mimetype": "text/x-python",
   "name": "python",
   "nbconvert_exporter": "python",
   "pygments_lexer": "ipython3",
   "version": "3.7.10"
  }
 },
 "nbformat": 4,
 "nbformat_minor": 1
}
