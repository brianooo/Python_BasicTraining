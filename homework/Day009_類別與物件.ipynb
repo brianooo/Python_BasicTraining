{
 "cells": [
  {
   "cell_type": "markdown",
   "metadata": {
    "colab_type": "text",
    "id": "P6xk2_jLsvFF"
   },
   "source": [
    "# [作業目標]\n",
    "\n",
    "1. 請問以下程式輸出為何？\n",
    "\n",
    "```\n",
    "class MyClass: \n",
    "    count = [0] # shared\n",
    "    def __init__(self, name):\n",
    "        self.name = name # uniuqe\n",
    "        self.count[0] += 1\n",
    "    def f(self): \n",
    "        return 'hello %s' % (self.name)\n",
    "x = MyClass('X')\n",
    "print(x.f(), x.count)\n",
    "y = MyClass('Y')\n",
    "print(y.f(), y.count\n",
    "```\n",
    "\n",
    "2. 建立一個 Student 的類別，要包含姓名、性別、年齡，和修改資料的成員函式。利用上述建立的類別，宣告幾個 Student 物件，並放到一個列表存放。\n",
    "\n",
    "\n",
    "\n",
    "\n"
   ]
  },
  {
   "cell_type": "markdown",
   "metadata": {
    "colab_type": "text",
    "id": "uXGll28asvFS"
   },
   "source": [
    "# 作業 "
   ]
  },
  {
   "cell_type": "markdown",
   "metadata": {},
   "source": [
    "### 1. 請問以下程式輸出為何？\n",
    "\n",
    "```\n",
    "class MyClass: \n",
    "    count = [0] # shared\n",
    "    def __init__(self, name):\n",
    "        self.name = name # uniuqe\n",
    "        self.count[0] += 1\n",
    "    def f(self): \n",
    "        return 'hello %s' % (self.name)\n",
    "x = MyClass('X')\n",
    "print(x.f(), x.count)\n",
    "y = MyClass('Y')\n",
    "print(y.f(), y.count\n",
    "```\n"
   ]
  },
  {
   "cell_type": "markdown",
   "metadata": {
    "colab": {},
    "colab_type": "code",
    "id": "5QrYoyNWsvFS"
   },
   "source": [
    "hello X [1]\n",
    "hello Y [2]"
   ]
  },
  {
   "cell_type": "markdown",
   "metadata": {},
   "source": [
    "### 2.  建立一個 Student 的類別，要包含姓名、性別、年齡，和修改資料的成員函式。利用上述建立的類別，宣告幾個 Student 物件，並放到一個列表存放。\n",
    "\n",
    "\n"
   ]
  },
  {
   "cell_type": "code",
   "execution_count": 17,
   "metadata": {
    "colab": {},
    "colab_type": "code",
    "id": "e1gVI0tvsvFY",
    "scrolled": false
   },
   "outputs": [],
   "source": [
    "class Student():\n",
    "    def __init__(self, name, gender, age):\n",
    "        self.name = name\n",
    "        self.gender = gender\n",
    "        self.age = age\n",
    "    \n",
    "    def revise(self, item, value):\n",
    "        if item == 'name':\n",
    "            original = self.name\n",
    "            self.name = value\n",
    "            print(f'已將 name 從 {original} 修改為 {value}')\n",
    "        elif item == 'gender':\n",
    "            original = self.gender\n",
    "            self.gender = value\n",
    "            print(f'已將 name 從 {original} 修改為 {value}')\n",
    "        elif item == 'age':\n",
    "            original = self.age\n",
    "            self.age = age\n",
    "            print(f'已將 name 從 {original} 修改為 {value}')\n",
    "        else:\n",
    "            print('請選擇想修改的項目: name, gender, age 或是 quit 放棄修改')\n",
    "    \n",
    "students = []\n",
    "student1 = Student('Brian', 'M', 40)\n",
    "students.append(student1)\n",
    "student2 = Student('Ann', 'F', 42)\n",
    "students.append(student2)\n",
    "student3 = Student('Ko', 'F', 40)\n",
    "students.append(student3)\n",
    "student4 = Student('Paddy', 'M', 5)\n",
    "students.append(student4)\n",
    "student5 = Student('Rachel', 'F', 2)\n",
    "students.append(student5)"
   ]
  },
  {
   "cell_type": "code",
   "execution_count": 18,
   "metadata": {},
   "outputs": [
    {
     "name": "stdout",
     "output_type": "stream",
     "text": [
      "==========1==========\n",
      "Name: Brian\n",
      "Gender: M\n",
      "Age: 40\n",
      "==========2==========\n",
      "Name: Ann\n",
      "Gender: F\n",
      "Age: 42\n",
      "==========3==========\n",
      "Name: Ko\n",
      "Gender: F\n",
      "Age: 40\n",
      "==========4==========\n",
      "Name: Paddy\n",
      "Gender: M\n",
      "Age: 5\n",
      "==========5==========\n",
      "Name: Rachel\n",
      "Gender: F\n",
      "Age: 2\n"
     ]
    }
   ],
   "source": [
    "for i in range(5):\n",
    "    print('='*10+str(i+1)+'='*10)\n",
    "    print(f'Name: {students[i].name}')\n",
    "    print(f'Gender: {students[i].gender}')\n",
    "    print(f'Age: {students[i].age}')\n",
    "\n",
    "    "
   ]
  },
  {
   "cell_type": "code",
   "execution_count": 19,
   "metadata": {},
   "outputs": [
    {
     "name": "stdout",
     "output_type": "stream",
     "text": [
      "已將 name 從 Ko 修改為 Tsai\n"
     ]
    }
   ],
   "source": [
    "students[2].revise('name', 'Tsai')"
   ]
  },
  {
   "cell_type": "code",
   "execution_count": 20,
   "metadata": {},
   "outputs": [
    {
     "name": "stdout",
     "output_type": "stream",
     "text": [
      "==========1==========\n",
      "Name: Brian\n",
      "Gender: M\n",
      "Age: 40\n",
      "==========2==========\n",
      "Name: Ann\n",
      "Gender: F\n",
      "Age: 42\n",
      "==========3==========\n",
      "Name: Tsai\n",
      "Gender: F\n",
      "Age: 40\n",
      "==========4==========\n",
      "Name: Paddy\n",
      "Gender: M\n",
      "Age: 5\n",
      "==========5==========\n",
      "Name: Rachel\n",
      "Gender: F\n",
      "Age: 2\n"
     ]
    }
   ],
   "source": [
    "for i in range(5):\n",
    "    print('='*10+str(i+1)+'='*10)\n",
    "    print(f'Name: {students[i].name}')\n",
    "    print(f'Gender: {students[i].gender}')\n",
    "    print(f'Age: {students[i].age}')\n"
   ]
  },
  {
   "cell_type": "code",
   "execution_count": null,
   "metadata": {},
   "outputs": [],
   "source": []
  }
 ],
 "metadata": {
  "colab": {
   "name": "Day_023_HW.ipynb",
   "provenance": []
  },
  "kernelspec": {
   "display_name": "Python 3",
   "language": "python",
   "name": "python3"
  },
  "language_info": {
   "codemirror_mode": {
    "name": "ipython",
    "version": 3
   },
   "file_extension": ".py",
   "mimetype": "text/x-python",
   "name": "python",
   "nbconvert_exporter": "python",
   "pygments_lexer": "ipython3",
   "version": "3.7.10"
  }
 },
 "nbformat": 4,
 "nbformat_minor": 1
}
