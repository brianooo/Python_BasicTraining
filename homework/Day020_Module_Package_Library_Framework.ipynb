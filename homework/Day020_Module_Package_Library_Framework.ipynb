{
 "cells": [
  {
   "cell_type": "markdown",
   "metadata": {
    "colab_type": "text",
    "id": "P6xk2_jLsvFF"
   },
   "source": [
    "# [作業目標]\n",
    "\n",
    "\n",
    "1. [簡答題] 各別一句話解釋「Module」, 「Package」, 「Library」, 「Framework」。\n",
    "\n",
    "2. [簡答題] 分享你有使用過什麼 Library 或 Framwork。\n",
    "\n"
   ]
  },
  {
   "cell_type": "markdown",
   "metadata": {
    "colab_type": "text",
    "id": "uXGll28asvFS"
   },
   "source": [
    "# 作業 "
   ]
  },
  {
   "cell_type": "markdown",
   "metadata": {},
   "source": [
    "### 1. [簡答題] 各別一句話解釋「Module」, 「Package」, 「Library」, 「Framework」。\n"
   ]
  },
  {
   "cell_type": "markdown",
   "metadata": {},
   "source": [
    "Module : 由類別、函數、變數所組成的一個 python file"
   ]
  },
  {
   "cell_type": "markdown",
   "metadata": {},
   "source": [
    "Package : 由許多 module 和一個 init.py 所組成的集合"
   ]
  },
  {
   "cell_type": "markdown",
   "metadata": {},
   "source": [
    "Library : 由許多 package 組成的函式庫"
   ]
  },
  {
   "cell_type": "markdown",
   "metadata": {},
   "source": [
    "Framework : 利用多種函式庫，為了執行某個特定任務而架構成的應用程式，其中核心程式碼由使用者自行建構，其餘函式間的功能協作已經這個應用程式來完成"
   ]
  },
  {
   "cell_type": "markdown",
   "metadata": {},
   "source": [
    "### 2. [簡答題] 分享你有使用過什麼 Library 或 Framwork。"
   ]
  },
  {
   "cell_type": "markdown",
   "metadata": {},
   "source": [
    "Library : Numpy, Pandas, Scikit-learn"
   ]
  },
  {
   "cell_type": "markdown",
   "metadata": {},
   "source": [
    "Framework : Pytorch, tensorflow, Scrapy, Selenium"
   ]
  },
  {
   "cell_type": "code",
   "execution_count": null,
   "metadata": {},
   "outputs": [],
   "source": []
  }
 ],
 "metadata": {
  "colab": {
   "name": "Day_023_HW.ipynb",
   "provenance": []
  },
  "kernelspec": {
   "display_name": "Python 3",
   "language": "python",
   "name": "python3"
  },
  "language_info": {
   "codemirror_mode": {
    "name": "ipython",
    "version": 3
   },
   "file_extension": ".py",
   "mimetype": "text/x-python",
   "name": "python",
   "nbconvert_exporter": "python",
   "pygments_lexer": "ipython3",
   "version": "3.7.10"
  }
 },
 "nbformat": 4,
 "nbformat_minor": 1
}
