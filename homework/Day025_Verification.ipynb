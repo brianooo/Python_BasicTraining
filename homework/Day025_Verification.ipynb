{
 "cells": [
  {
   "cell_type": "markdown",
   "id": "1e7461c7",
   "metadata": {},
   "source": [
    "# 1. APCS: 購買力"
   ]
  },
  {
   "cell_type": "markdown",
   "id": "f3e6e74d",
   "metadata": {},
   "source": [
    "市場上有 n 個商品，你也知道這 n 個商品最近 3 天的價格。\n",
    "\n",
    "你想要購買所以有近期價格大幅波動的商品，也就是近三天價格最高與最低差異至少 d 的所有物品，而購買物品的費用是它近 3 天的價格的平均值，保證這個平均值會是整數。\n",
    "\n",
    "給定 n 個物品最近 3 天的價格，以其所設定的 d，輸出總共購買的商品數量以及費用總和。"
   ]
  },
  {
   "cell_type": "markdown",
   "id": "9ff33cfa",
   "metadata": {},
   "source": [
    "### Input\n",
    "\n",
    "n d <br />\n",
    "price1_1 price2_1 price3_1 <br />\n",
    "price1_2 price2_2 price3_2 <br />\n",
    "..."
   ]
  },
  {
   "cell_type": "markdown",
   "id": "2bc14895",
   "metadata": {},
   "source": [
    "### Output\n",
    "\n",
    "num_merchandises total_pay"
   ]
  },
  {
   "cell_type": "markdown",
   "id": "514a522a",
   "metadata": {},
   "source": [
    "#### (1) 自行實作"
   ]
  },
  {
   "cell_type": "code",
   "execution_count": 1,
   "id": "4d3ec2a9",
   "metadata": {},
   "outputs": [
    {
     "name": "stdout",
     "output_type": "stream",
     "text": [
      "3 4\n"
     ]
    }
   ],
   "source": [
    "# 讀取設定的商品數量和價差\n",
    "\n",
    "quality_difference = input()\n",
    "n, d = quality_difference.split()\n",
    "n, d = int(n), int(d)\n",
    "#print(n, d)"
   ]
  },
  {
   "cell_type": "code",
   "execution_count": 2,
   "id": "e1e8c3da",
   "metadata": {},
   "outputs": [
    {
     "name": "stdout",
     "output_type": "stream",
     "text": [
      "24 33 42\n",
      "51 48 60\n",
      "77 77 77\n"
     ]
    }
   ],
   "source": [
    "# 讀取每個商品的三天價格，並驗證是否符合價差，是則直接計算平均且儲存，否則不做任何動作\n",
    "\n",
    "result = []\n",
    "\n",
    "for i in range(n):\n",
    "    input_price = input()\n",
    "    prices = input_price.split()\n",
    "    for j in range(3):\n",
    "        prices[j] = int(prices[j])\n",
    "    if max(prices) - min(prices) >= d:\n",
    "        result.append(int(sum(prices)/3))\n"
   ]
  },
  {
   "cell_type": "code",
   "execution_count": 3,
   "id": "1d6191fa",
   "metadata": {},
   "outputs": [
    {
     "name": "stdout",
     "output_type": "stream",
     "text": [
      "2 86\n"
     ]
    }
   ],
   "source": [
    "print(len(result), sum(result))"
   ]
  },
  {
   "cell_type": "markdown",
   "id": "43d6a535",
   "metadata": {},
   "source": [
    "#### (2) 參考解法"
   ]
  },
  {
   "cell_type": "markdown",
   "id": "52b5de19",
   "metadata": {},
   "source": [
    "1. 當讀取每種商品的價格後先做排序\n",
    "2. 檢驗最大和最小價格差異，若符合條件再做計算平均並加到總額"
   ]
  },
  {
   "cell_type": "markdown",
   "id": "3bd44765",
   "metadata": {},
   "source": [
    "# 2. CPE: 3n+1 Problem"
   ]
  },
  {
   "cell_type": "markdown",
   "id": "39fb18c9",
   "metadata": {},
   "source": [
    "在電腦科學中，我們常將問題分類到各種不同的類別裡(例如：NP問題、無法解決(Unsolvable)的問題、遞迴(Recursive)的問題)。在這個問題裡，你將分析一個演算法的特性，而這個演算法對於所有可能的輸入來說，並不知道其分類為何。\n",
    "考慮到下面的演算法：\n",
    "\n",
    "1.輸入n <br />\n",
    "2.印出n <br />\n",
    "3.當n等於1時停止 <br />\n",
    "4.如果n是奇數，則N←3N+1  <br />\n",
    "5.其餘的狀況，則N←N/2  <br />\n",
    "6.回到第二步驟\n",
    "\n",
    "給予一個輸入22，則會印出下列的數列： 22 11 34 17 52 26 13 40 20 10 5 16 8 4 2 1"
   ]
  },
  {
   "cell_type": "markdown",
   "id": "150347f5",
   "metadata": {},
   "source": [
    "#### Input\n",
    "\n",
    "i1 j1 <br />\n",
    "i2 j2 <br />\n",
    "...\n",
    "\n",
    "#### Output\n",
    "\n",
    "i1 j1 max_cycle_length <br />\n",
    "i2 j2 max_cycle_length <br />\n",
    "...\n"
   ]
  },
  {
   "cell_type": "markdown",
   "id": "1a14e547",
   "metadata": {},
   "source": [
    "#### (1) 自行實作"
   ]
  },
  {
   "cell_type": "code",
   "execution_count": 4,
   "id": "755ad3f1",
   "metadata": {},
   "outputs": [
    {
     "name": "stdout",
     "output_type": "stream",
     "text": [
      "1 10\n",
      "100 200\n",
      "201 210\n",
      "900 1000\n",
      "\n",
      "1 10 20\n",
      "100 200 125\n",
      "201 210 89\n",
      "900 1000 174\n"
     ]
    }
   ],
   "source": [
    "# 計算 cycle lenth\n",
    "def cycle(n):\n",
    "    count = 1\n",
    "    while n != 1:\n",
    "        if n % 2 != 0:\n",
    "            n = 3*n + 1\n",
    "        else:\n",
    "            n = int(n/2)\n",
    "        count += 1    \n",
    "    return count\n",
    "\n",
    "cycles = []\n",
    "\n",
    "# 讀取設定範圍，並計算 cycle lenth，取最大值\n",
    "while True:\n",
    "    input_nums = input()\n",
    "    if input_nums != '':\n",
    "        i, j = input_nums.split()\n",
    "        i, j = int(i), int(j)\n",
    "        maxCycle = 1\n",
    "        for k in range(i, j+1):\n",
    "            maxCycle = max(maxCycle, cycle(k)) \n",
    "        \n",
    "        cycles.append((i, j, maxCycle))\n",
    "    else:\n",
    "        break\n",
    "\n",
    "for i, j, c in cycles:\n",
    "    print(i, j, c)"
   ]
  },
  {
   "cell_type": "markdown",
   "id": "f40f6c5b",
   "metadata": {},
   "source": [
    "#### (2) 參考解法"
   ]
  },
  {
   "cell_type": "markdown",
   "id": "5e345876",
   "metadata": {},
   "source": [
    "1. 在讀取輸入時，有設定機制預防大小數字在不同位置的狀況"
   ]
  },
  {
   "cell_type": "markdown",
   "id": "5f263fa6",
   "metadata": {},
   "source": [
    "# 3. Leetcode: Two Sum"
   ]
  },
  {
   "cell_type": "markdown",
   "id": "7afd6b7d",
   "metadata": {},
   "source": [
    "Given an array of integers nums and an integer target, return indices of the two numbers such that they add up to target.\n",
    "\n",
    "You may assume that each input would have exactly one solution, and you may not use the same element twice.\n",
    "\n",
    "You can return the answer in any order."
   ]
  },
  {
   "cell_type": "markdown",
   "id": "e89b3186",
   "metadata": {},
   "source": [
    "#### Example 1:\n",
    "Input: nums = [2,7,11,15], target = 9 <br />\n",
    "Output: [0,1] <br />\n",
    "Output: Because nums[0] + nums[1] == 9, we return [0, 1]."
   ]
  },
  {
   "cell_type": "markdown",
   "id": "980f613e",
   "metadata": {},
   "source": [
    "#### Example 2:\n",
    "Input: nums = [3,2,4], target = 6 <br />\n",
    "Output: [1,2]"
   ]
  },
  {
   "cell_type": "markdown",
   "id": "3d72506d",
   "metadata": {},
   "source": [
    "#### Example 3:\n",
    "Input: nums = [3,3], target = 6 <br />\n",
    "Output: [0,1]"
   ]
  },
  {
   "cell_type": "markdown",
   "id": "a52e7ed5",
   "metadata": {},
   "source": [
    "#### (1) 自行實作"
   ]
  },
  {
   "cell_type": "code",
   "execution_count": 5,
   "id": "bee8b16c",
   "metadata": {},
   "outputs": [
    {
     "name": "stdout",
     "output_type": "stream",
     "text": [
      "[0, 1]\n",
      "[1, 2]\n",
      "[0, 1]\n"
     ]
    }
   ],
   "source": [
    "class Solution:\n",
    "    def twoSum(self, nums, target):\n",
    "        d = {}\n",
    "        \n",
    "        for i , num in enumerate(nums):\n",
    "            if target - num in d:\n",
    "                return [d[target-num], i]\n",
    "            else:\n",
    "                d[num] = i\n",
    "        \n",
    "        return []\n",
    "\n",
    "    \n",
    "s = Solution()\n",
    "print(s.twoSum([2, 7, 11, 15], 9))\n",
    "print(s.twoSum([3, 2, 4], 6))\n",
    "print(s.twoSum([3, 3], 6))"
   ]
  },
  {
   "cell_type": "markdown",
   "id": "1ded5d00",
   "metadata": {},
   "source": [
    "#### (2) 參考解法"
   ]
  },
  {
   "cell_type": "markdown",
   "id": "a7c9b431",
   "metadata": {},
   "source": [
    "從第一個數字開始，往後面找是否有 target - num，一開始搜尋就幾乎是整個串列，worst case 是 O(n)+O(n-1)+ ... +O(2)+O(1)"
   ]
  },
  {
   "cell_type": "code",
   "execution_count": 6,
   "id": "f57ce6a8",
   "metadata": {},
   "outputs": [
    {
     "name": "stdout",
     "output_type": "stream",
     "text": [
      "[0, 1]\n",
      "[1, 2]\n",
      "[0, 1]\n"
     ]
    }
   ],
   "source": [
    "def twoSum2(nums, target):\n",
    "    for i in range(len(nums)-1):\n",
    "        nw=target-nums[i]\n",
    "        if nw in nums[i+1:]:\n",
    "            return [i,i+nums[i+1:].index(nw)+1]\n",
    "\n",
    "print(twoSum2([2, 7, 11, 15], 9))\n",
    "print(twoSum2([3, 2, 4], 6))\n",
    "print(twoSum2([3, 3], 6))"
   ]
  },
  {
   "cell_type": "code",
   "execution_count": null,
   "id": "f0b3defe",
   "metadata": {},
   "outputs": [],
   "source": []
  }
 ],
 "metadata": {
  "kernelspec": {
   "display_name": "Python 3",
   "language": "python",
   "name": "python3"
  },
  "language_info": {
   "codemirror_mode": {
    "name": "ipython",
    "version": 3
   },
   "file_extension": ".py",
   "mimetype": "text/x-python",
   "name": "python",
   "nbconvert_exporter": "python",
   "pygments_lexer": "ipython3",
   "version": "3.7.10"
  }
 },
 "nbformat": 4,
 "nbformat_minor": 5
}
